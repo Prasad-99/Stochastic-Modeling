{
 "cells": [
  {
   "cell_type": "markdown",
   "id": "094e0130",
   "metadata": {},
   "source": [
    "# Part 3 - Static Replication"
   ]
  },
  {
   "cell_type": "markdown",
   "id": "4d173022",
   "metadata": {},
   "source": [
    "Static Replication of exotic European derivative contract using Black-Schloes, Bachelier and SABR with a following payoff:\n",
    "\n",
    "$$\n",
    "S^{1/3}_T + 1.5 \\cdot \\log(S_T) + 10.0\n",
    "$$"
   ]
  },
  {
   "cell_type": "code",
   "execution_count": 63,
   "id": "b7a5f590",
   "metadata": {},
   "outputs": [
    {
     "data": {
      "application/javascript": [
       "IPython.notebook.set_autosave_interval(60000)"
      ]
     },
     "metadata": {},
     "output_type": "display_data"
    },
    {
     "name": "stdout",
     "output_type": "stream",
     "text": [
      "Autosaving every 60 seconds\n"
     ]
    }
   ],
   "source": [
    "%autosave 60\n",
    "import numpy as np\n",
    "import pandas as pd\n",
    "import matplotlib.pyplot as plt\n",
    "\n",
    "from scipy.stats import norm\n",
    "from scipy.optimize import brentq\n",
    "import matplotlib.pylab as plt"
   ]
  },
  {
   "cell_type": "code",
   "execution_count": 64,
   "id": "cceb492b",
   "metadata": {},
   "outputs": [],
   "source": [
    "import warnings\n",
    "warnings.filterwarnings('ignore')"
   ]
  },
  {
   "cell_type": "code",
   "execution_count": 65,
   "id": "2891127e",
   "metadata": {},
   "outputs": [],
   "source": [
    "#S&P500 index data\n",
    "spx = pd.read_csv('Data/SPX_options.csv',\n",
    "                  index_col=0,\n",
    "                  parse_dates=True)\n",
    "\n",
    "#Discount rates\n",
    "discount_rate = pd.read_csv('Data/zero_rates_20201201.csv',\n",
    "                           index_col=0,\n",
    "                           parse_dates=True)"
   ]
  },
  {
   "cell_type": "code",
   "execution_count": 66,
   "id": "61a155a3",
   "metadata": {},
   "outputs": [],
   "source": [
    "def preprocessData(df):\n",
    "    df['mid'] = 0.5*(df['best_bid'] + df['best_offer'])\n",
    "    df['strike'] = df['strike_price']*0.001\n",
    "    df['payoff'] = df['cp_flag'].map(lambda x: 'call' if x == 'C' else 'put')\n",
    "    return df"
   ]
  },
  {
   "cell_type": "code",
   "execution_count": 67,
   "id": "2365aefd",
   "metadata": {},
   "outputs": [],
   "source": [
    "spx = preprocessData(spx)"
   ]
  },
  {
   "cell_type": "markdown",
   "id": "c0a33ac3",
   "metadata": {},
   "source": [
    "Lets calculate the implied volatility based on the market data."
   ]
  },
  {
   "cell_type": "code",
   "execution_count": 68,
   "id": "750a7369",
   "metadata": {},
   "outputs": [],
   "source": [
    "def impliedVolatility(S, K, r, price, T, payoff):\n",
    "    try:\n",
    "        if (payoff.lower() == 'call'):\n",
    "            impliedVol = brentq(lambda x: price -\n",
    "                                BlackScholesLognormalCall(S, K, r, x, T),\n",
    "                                1e-12, 10.0)\n",
    "        elif (payoff.lower() == 'put'):\n",
    "            impliedVol = brentq(lambda x: price -\n",
    "                                BlackScholesLognormalPut(S, K, r, x, T),\n",
    "                                1e-12, 10.0)\n",
    "        else:\n",
    "            raise NameError('Payoff type not recognized')\n",
    "    except Exception:\n",
    "        impliedVol = np.nan\n",
    "\n",
    "    return impliedVol\n",
    "\n",
    "\n",
    "def BlackScholesLognormalCall(S, K, r, sigma, T):\n",
    "    d1 = (np.log(S/K)+(r+sigma**2/2)*T) / (sigma*np.sqrt(T))\n",
    "    d2 = d1 - sigma*np.sqrt(T)\n",
    "    return S*norm.cdf(d1) - K*np.exp(-r*T)*norm.cdf(d2)\n",
    "\n",
    "\n",
    "def BlackScholesLognormalPut(S, K, r, sigma, T):\n",
    "    d1 = (np.log(S/K)+(r+sigma**2/2)*T) / (sigma*np.sqrt(T))\n",
    "    d2 = d1 - sigma*np.sqrt(T)\n",
    "    return K*np.exp(-r*T)*norm.cdf(-d2) - S*norm.cdf(-d1)"
   ]
  },
  {
   "cell_type": "code",
   "execution_count": 69,
   "id": "d1d99f39",
   "metadata": {},
   "outputs": [
    {
     "data": {
      "text/plain": [
       "exdate\n",
       "20201218    822\n",
       "20210115    738\n",
       "20210219    512\n",
       "Name: count, dtype: int64"
      ]
     },
     "execution_count": 69,
     "metadata": {},
     "output_type": "execute_result"
    }
   ],
   "source": [
    "spx.exdate.value_counts()"
   ]
  },
  {
   "cell_type": "code",
   "execution_count": 70,
   "id": "a1c1dafb",
   "metadata": {},
   "outputs": [],
   "source": [
    "data = \\\n",
    "    spx[spx.exdate == 20210115]"
   ]
  },
  {
   "cell_type": "code",
   "execution_count": 82,
   "id": "67c70005",
   "metadata": {},
   "outputs": [],
   "source": [
    "# Lets calculate the implied volatility for the ATM option\n",
    "K = 3660\n",
    "atm = data[data.strike == K]"
   ]
  },
  {
   "cell_type": "code",
   "execution_count": 86,
   "id": "7377b469",
   "metadata": {},
   "outputs": [],
   "source": [
    "atm_call = \\\n",
    "    atm[atm['payoff'] == 'call']\n",
    "\n",
    "atm_put = \\\n",
    "    atm[atm['payoff'] == 'put']"
   ]
  },
  {
   "cell_type": "code",
   "execution_count": 112,
   "id": "01317dd7",
   "metadata": {},
   "outputs": [],
   "source": [
    "#Define parameters\n",
    "S = 3662.45\n",
    "days_to_expiry = (pd.Timestamp(str(20210115)) - pd.Timestamp('2020-12-01')).days\n",
    "T = days_to_expiry/365\n",
    "\n",
    "#calculate the discount rate\n",
    "r = np.interp(days_to_expiry, discount_rate['days'], discount_rate['rate'])"
   ]
  },
  {
   "cell_type": "code",
   "execution_count": 88,
   "id": "13046a82",
   "metadata": {},
   "outputs": [],
   "source": [
    "#calculate implied volatilities from market data\n",
    "atm_call['vols'] = atm_call.apply(lambda x: impliedVolatility(S,\n",
    "                                                  x['strike'],\n",
    "                                                  r,\n",
    "                                                  x['mid'],\n",
    "                                                  T,\n",
    "                                                  x['payoff']),\n",
    "                                                  axis=1)"
   ]
  },
  {
   "cell_type": "code",
   "execution_count": 89,
   "id": "0ece9918",
   "metadata": {},
   "outputs": [],
   "source": [
    "atm_put['vols'] = atm_put.apply(lambda x: impliedVolatility(S,\n",
    "                                                  x['strike'],\n",
    "                                                  r,\n",
    "                                                  x['mid'],\n",
    "                                                  T,\n",
    "                                                  x['payoff']),\n",
    "                                                  axis=1)"
   ]
  },
  {
   "cell_type": "code",
   "execution_count": 102,
   "id": "effc13be",
   "metadata": {},
   "outputs": [],
   "source": [
    "atm_sigma = (atm_call['vols'].values[0] + atm_put['vols'].values[0])/2"
   ]
  },
  {
   "cell_type": "code",
   "execution_count": 100,
   "id": "ed525bf1",
   "metadata": {},
   "outputs": [],
   "source": [
    "# Lets calculate the price of Exotic derivative using black scholes\n",
    "\n",
    "def black_scholes_pricing(r,T,S,sigma):\n",
    "    return np.exp(-r*T)*((S**(1/3)*np.exp((r-(sigma**2/6))*(T/3)) + 1.5*np.log(S) + 1.5*(r-(sigma**2/2))*T + 10))"
   ]
  },
  {
   "cell_type": "code",
   "execution_count": 103,
   "id": "75163b11",
   "metadata": {},
   "outputs": [
    {
     "data": {
      "text/plain": [
       "36.94057587959251"
      ]
     },
     "execution_count": 103,
     "metadata": {},
     "output_type": "execute_result"
    }
   ],
   "source": [
    "black_scholes_pricing(r,T,S,atm_sigma)"
   ]
  },
  {
   "cell_type": "code",
   "execution_count": 105,
   "id": "a86efbba",
   "metadata": {},
   "outputs": [],
   "source": [
    "# Lets calculate the price of Exotic derivative using bachelier model\n",
    "\n",
    "def bachelier_pricing(r,T,S,sigma):\n",
    "    return np.exp(-r*T)*(S**(1/3) + 1.5*np.log(S) - ((3*sigma**2*T)/(4*S**2)) + 10)"
   ]
  },
  {
   "cell_type": "code",
   "execution_count": 106,
   "id": "620e5dba",
   "metadata": {},
   "outputs": [
    {
     "data": {
      "text/plain": [
       "36.78118095136091"
      ]
     },
     "execution_count": 106,
     "metadata": {},
     "output_type": "execute_result"
    }
   ],
   "source": [
    "bachelier_pricing(r,T,S,atm_sigma)"
   ]
  },
  {
   "cell_type": "markdown",
   "id": "3b8769c7",
   "metadata": {},
   "source": [
    "For any twice-differentiable payoff $h(S_T)$, Breeden-Litzenberger states that\n",
    "\n",
    "\\begin{equation*}\n",
    "    \\begin{split}\n",
    "      V_0 = e^{-rT}h(F) + \\underbrace{\\int_0^{F}h''(K)P(K)\\;dK}_{\\mbox{put integral}} + \\underbrace{\\int_{F}^{\\infty}h''(K)C(K)\\;dK}_{\\mbox{call integral}}\\\\\n",
    "    \\end{split}\n",
    "\\end{equation*}"
   ]
  },
  {
   "cell_type": "code",
   "execution_count": 114,
   "id": "3fb858e6",
   "metadata": {},
   "outputs": [],
   "source": [
    "# Lets calculate the implied volatility using SABR model\n",
    "def SABR(F, K, T, alpha, beta, rho, nu):\n",
    "    X = K\n",
    "    # if K is at-the-money-forward\n",
    "    if abs(F - K) < 1e-12:\n",
    "        numer1 = (((1 - beta)**2)/24)*alpha*alpha/(F**(2 - 2*beta))\n",
    "        numer2 = 0.25*rho*beta*nu*alpha/(F**(1 - beta))\n",
    "        numer3 = ((2 - 3*rho*rho)/24)*nu*nu\n",
    "        VolAtm = alpha*(1 + (numer1 + numer2 + numer3)*T)/(F**(1-beta))\n",
    "        sabrsigma = VolAtm\n",
    "    else:\n",
    "        z = (nu/alpha)*((F*X)**(0.5*(1-beta)))*np.log(F/X)\n",
    "        zhi = np.log((((1 - 2*rho*z + z*z)**0.5) + z - rho)/(1 - rho))\n",
    "        numer1 = (((1 - beta)**2)/24)*((alpha*alpha)/((F*X)**(1 - beta)))\n",
    "        numer2 = 0.25*rho*beta*nu*alpha/((F*X)**((1 - beta)/2))\n",
    "        numer3 = ((2 - 3*rho*rho)/24)*nu*nu\n",
    "        numer = alpha*(1 + (numer1 + numer2 + numer3)*T)*z\n",
    "        denom1 = ((1 - beta)**2/24)*(np.log(F/X))**2\n",
    "        denom2 = (((1 - beta)**4)/1920)*((np.log(F/X))**4)\n",
    "        denom = ((F*X)**((1 - beta)/2))*(1 + denom1 + denom2)*zhi\n",
    "        sabrsigma = numer/denom\n",
    "\n",
    "    return sabrsigma"
   ]
  },
  {
   "cell_type": "code",
   "execution_count": 122,
   "id": "e5552d27",
   "metadata": {},
   "outputs": [],
   "source": [
    "#lets use the calibrated model parameters \n",
    "alpha = 1.725\n",
    "beta = 0.7\n",
    "rho = -0.667\n",
    "nu = 2.862\n",
    "F = S * np.exp(r*T)"
   ]
  },
  {
   "cell_type": "code",
   "execution_count": 123,
   "id": "b328cce3",
   "metadata": {},
   "outputs": [],
   "source": [
    "# price the option using SABR implied Volatility\n",
    "def SABRCall(S, K, r, alpha, beta, rho, nu, T):\n",
    "    sabr_vol = SABR(S*np.exp(r*T), K, T, alpha, beta, rho, nu)\n",
    "    return BlackScholesCall(S, K, r, sabr_vol, T)\n",
    "\n",
    "\n",
    "def SABRPut(S, K, r, alpha, beta, rho, nu, T):\n",
    "    sabr_vol = SABR(S*np.exp(r*T), K, T, alpha, beta, rho, nu)\n",
    "    return BlackScholesPut(S, K, r, sabr_vol, T)"
   ]
  },
  {
   "cell_type": "code",
   "execution_count": 125,
   "id": "5d27854e",
   "metadata": {},
   "outputs": [],
   "source": [
    "def call_integrand(K, S, r, T, alpha, beta, rho, nu):\n",
    "    hK = (-2/(9*K**(5/3))) - (3/(2*K**2))\n",
    "    price = SABRCall(S, K, r, alpha, beta, rho, nu, T)\n",
    "    return hK*price\n",
    "\n",
    "def put_integrand(K, S, r, T, alpha, beta, rho, nu):\n",
    "    hK = (-2/(9*K**(5/3))) - (3/(2*K**2))\n",
    "    price = SABRPut(S, K, r, alpha, beta, rho, nu, T)\n",
    "    return hK*price"
   ]
  },
  {
   "cell_type": "code",
   "execution_count": 135,
   "id": "045a6c87",
   "metadata": {},
   "outputs": [],
   "source": [
    "#lets calculate the price of the exotic derivative using SABR volatility\n",
    "\n",
    "def sabr_pricing(r, T, F, S, alpha, beta, rho, nu):\n",
    "    first_term = np.exp(-r*T)*(F**(1/3) + 1.5*np.log(F) + 10)\n",
    "    I_put = quad(lambda x: put_integrand(x, S, r, T, alpha, beta, rho, nu), 1e-6, F)\n",
    "    I_call = quad(lambda x: call_integrand(x, S, r, T, alpha, beta, rho, nu), F, 7000)\n",
    "    price = first_term + I_put[0] + I_call[0]\n",
    "    return price"
   ]
  },
  {
   "cell_type": "code",
   "execution_count": 136,
   "id": "c5b4b2fd",
   "metadata": {},
   "outputs": [
    {
     "data": {
      "text/plain": [
       "36.931949069031965"
      ]
     },
     "execution_count": 136,
     "metadata": {},
     "output_type": "execute_result"
    }
   ],
   "source": [
    "sabr_pricing(r, T, F, S, alpha, beta, rho, nu)"
   ]
  },
  {
   "cell_type": "markdown",
   "id": "294fc208",
   "metadata": {},
   "source": [
    "> Price using Black Scholes : 36.94057587959251\n",
    "\n",
    "\n",
    "> Price using Bachelier : 36.78118095136091\n",
    "\n",
    "\n",
    "> Price using SABR : 36.931949069031965"
   ]
  }
 ],
 "metadata": {
  "kernelspec": {
   "display_name": "Python 3 (ipykernel)",
   "language": "python",
   "name": "python3"
  },
  "language_info": {
   "codemirror_mode": {
    "name": "ipython",
    "version": 3
   },
   "file_extension": ".py",
   "mimetype": "text/x-python",
   "name": "python",
   "nbconvert_exporter": "python",
   "pygments_lexer": "ipython3",
   "version": "3.11.4"
  }
 },
 "nbformat": 4,
 "nbformat_minor": 5
}
